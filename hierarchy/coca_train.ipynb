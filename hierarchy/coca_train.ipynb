{
 "cells": [
  {
   "attachments": {},
   "cell_type": "markdown",
   "metadata": {},
   "source": [
    "<h1><center><b>Импорт библиотек</b></center></h1>"
   ]
  },
  {
   "cell_type": "code",
   "execution_count": null,
   "metadata": {},
   "outputs": [],
   "source": [
    "from pathlib import Path\n",
    "\n",
    "import pandas as pd\n",
    "import torch\n",
    "import torch.nn.functional as F\n",
    "from coca_pytorch.coca_pytorch import CoCa\n",
    "from pytorch_lightning.loggers import TensorBoardLogger\n",
    "from utils.dataset_coca import DataModule\n",
    "from utils.utils import train_model_coca\n",
    "from vit_pytorch.extractor import Extractor\n",
    "from vit_pytorch.simple_vit_with_patch_dropout import SimpleViT\n",
    "from utils.utils import cleanhtml\n",
    "from utils.utils import lemmatize\n",
    "from utils.utils import transform_tokens\n",
    "from utils.utils import predict\n",
    "from navec import Navec\n",
    "device = torch.device(\"cuda\" if torch.cuda.is_available() else \"cpu\")\n"
   ]
  },
  {
   "attachments": {},
   "cell_type": "markdown",
   "metadata": {},
   "source": [
    "<h1><center><b>Установка путей и констант</b></center></h1>"
   ]
  },
  {
   "cell_type": "code",
   "execution_count": null,
   "metadata": {},
   "outputs": [],
   "source": [
    "# Необходимые директории\n",
    "DATA_PATH = Path('data')\n",
    "# директория с изображениями\n",
    "IMAGES_PATH = DATA_PATH / 'images'\n",
    "# директория для логов\n",
    "LOG_PATH = Path('logs')\n",
    "# директория для сохранения модели при обучении\n",
    "CHECKPOINT_PATH = Path('checkpoints')\n",
    "# Создание директорий при необходимости\n",
    "DATA_PATH.mkdir(parents=True, exist_ok=True)\n",
    "LOG_PATH.mkdir(parents=True, exist_ok=True)\n",
    "CHECKPOINT_PATH.mkdir(parents=True, exist_ok=True)\n",
    "# Текстовая модель для лемматизации\n",
    "TEXT_MODEL = 'models/navec_hudlit_v1_12B_500K_300d_100q.tar'\n",
    "\n"
   ]
  },
  {
   "cell_type": "code",
   "execution_count": null,
   "metadata": {},
   "outputs": [],
   "source": [
    "# чтение данных\n",
    "data = pd.read_parquet(DATA_PATH / 'train.parquet', engine='fastparquet')\n",
    "# обработка заголовков товаров (очищения, лемматизация-кодировка)\n",
    "navec = Navec.load(TEXT_MODEL)\n",
    "data['title'] = data.apply(lambda x: lemmatize(\n",
    "    cleanhtml(x.text_fields)['title'], navec), axis=1)\n",
    "data['category_id'] = data['category_id'].astype('category').cat.codes\n",
    "data = data[['product_id', 'title']]\n",
    "data = data[data['title'].astype(str) != '[]']\n",
    "data['title'] = data.title.apply(transform_tokens)"
   ]
  },
  {
   "attachments": {},
   "cell_type": "markdown",
   "metadata": {},
   "source": [
    "<h1><center><b>Обучение модели</b></center></h1>"
   ]
  },
  {
   "cell_type": "code",
   "execution_count": null,
   "metadata": {},
   "outputs": [],
   "source": [
    "# Параметры обучения:\n",
    "# случайное зерно\n",
    "SEED = 13\n",
    "# номер видеокарты\n",
    "GPU_ID = 1\n",
    "# размер валидационной выборки\n",
    "VAL_SIZE = 0.1\n",
    "# количество эпох обучения\n",
    "NUM_EPOCHS = 3\n",
    "# размер батча\n",
    "BATCH_SIZE = 3\n",
    "# скорость обучения\n",
    "LEARNING_RATE = 1e-3\n",
    "# число задействованных ядер\n",
    "NUM_WORKERS = 12\n",
    "# количество классов\n",
    "NUM_CLASSES = 874\n",
    "# размер изображения для ресайза\n",
    "IMAGE_SIZE = 256\n",
    "# длина эмбеддинга изображения\n",
    "IMAGE_EMB_LEN = 300"
   ]
  },
  {
   "cell_type": "code",
   "execution_count": null,
   "metadata": {},
   "outputs": [],
   "source": [
    "# Убедимся, что все операции детерминированы на графическом процессоре\n",
    "# (если он используется) для воспроизводимости.\n",
    "torch.backends.cudnn.determinstic = True\n",
    "torch.backends.cudnn.benchmark = False\n",
    "\n",
    "# создание объекта логгирования(tensorboard)\n",
    "name = 'coca'\n",
    "tensor_logger = TensorBoardLogger(LOG_PATH, name=name)\n",
    "\n",
    "# создание модуля данных\n",
    "path_to_train_images = IMAGES_PATH / 'train'\n",
    "datamodule = DataModule(data,\n",
    "                        path_to_train_images,\n",
    "                        batch_size=BATCH_SIZE,\n",
    "                        num_workers=NUM_WORKERS,\n",
    "                        val_size=VAL_SIZE,\n",
    "                        image_size=IMAGE_SIZE,\n",
    "                        seed=SEED)\n",
    "# параметры модели\n",
    "model_hparams = {'batch_size': BATCH_SIZE,\n",
    "                 'len_image_emb': IMAGE_EMB_LEN,\n",
    "                 'num_classes': NUM_CLASSES,\n",
    "                 'image_size': IMAGE_SIZE\n",
    "                 }\n",
    "optimizer_params = {'name': 'RAdam',\n",
    "                    'lr': LEARNING_RATE}\n",
    "trainer = train_model_coca(\n",
    "    model_hparams=model_hparams,\n",
    "    optimizer_params=optimizer_params,\n",
    "    ckpt_path=None,\n",
    "    logger=tensor_logger,\n",
    "    scheduler=None,\n",
    "    checkpoint_path=CHECKPOINT_PATH / f'{name}_{optimizer_params[\"name\"]}',\n",
    "    device=device,\n",
    "    gpu_id=[GPU_ID],\n",
    "    num_epochs=NUM_EPOCHS,\n",
    "    data_module=datamodule,\n",
    "    seed=SEED,\n",
    "    unfreeze_epoch=None\n",
    ")\n"
   ]
  }
 ],
 "metadata": {
  "kernelspec": {
   "display_name": ".venv",
   "language": "python",
   "name": "python3"
  },
  "language_info": {
   "codemirror_mode": {
    "name": "ipython",
    "version": 3
   },
   "file_extension": ".py",
   "mimetype": "text/x-python",
   "name": "python",
   "nbconvert_exporter": "python",
   "pygments_lexer": "ipython3",
   "version": "3.10.6"
  },
  "orig_nbformat": 4
 },
 "nbformat": 4,
 "nbformat_minor": 2
}
